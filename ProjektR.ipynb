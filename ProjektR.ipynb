{
  "cells": [
    {
      "cell_type": "markdown",
      "metadata": {
        "id": "FHja_N7K_tzH"
      },
      "source": [
        "## Izrada modela za izračunavanje jednostavnijih matematičkih operacija"
      ]
    },
    {
      "cell_type": "markdown",
      "metadata": {
        "id": "LOlZJDVB_5eN"
      },
      "source": [
        "### 1. Uključivanje potrebnih biblioteka te dohvaćanje dataseta"
      ]
    },
    {
      "cell_type": "code",
      "execution_count": 2,
      "metadata": {
        "colab": {
          "base_uri": "https://localhost:8080/",
          "height": 35
        },
        "id": "FYZe0dnw_10R",
        "outputId": "d55df848-6714-4ff9-8a49-0c2d91706447"
      },
      "outputs": [
        {
          "data": {
            "application/vnd.google.colaboratory.intrinsic+json": {
              "type": "string"
            },
            "text/plain": [
              "'2.1.0+cu121'"
            ]
          },
          "execution_count": 2,
          "metadata": {},
          "output_type": "execute_result"
        }
      ],
      "source": [
        "import torch\n",
        "from torch import nn\n",
        "import requests\n",
        "import zipfile\n",
        "from pathlib import Path\n",
        "import os\n",
        "import random\n",
        "from PIL import Image\n",
        "import numpy as np\n",
        "import matplotlib.pyplot as plt\n",
        "from torch.utils.data import DataLoader\n",
        "from torchvision import datasets, transforms\n",
        "from tqdm.auto import tqdm\n",
        "from timeit import default_timer as timer\n",
        "import torchvision\n",
        "import cv2\n",
        "\n",
        "torch.__version__"
      ]
    },
    {
      "cell_type": "code",
      "execution_count": 3,
      "metadata": {
        "colab": {
          "base_uri": "https://localhost:8080/",
          "height": 35
        },
        "id": "0I0KTO5bAKSK",
        "outputId": "41f1f081-a67a-4da9-e40b-4d21b6d9f20e"
      },
      "outputs": [
        {
          "data": {
            "application/vnd.google.colaboratory.intrinsic+json": {
              "type": "string"
            },
            "text/plain": [
              "'cuda'"
            ]
          },
          "execution_count": 3,
          "metadata": {},
          "output_type": "execute_result"
        }
      ],
      "source": [
        "device = \"cuda\" if torch.cuda.is_available() else \"cpu\"\n",
        "device"
      ]
    },
    {
      "cell_type": "code",
      "execution_count": 6,
      "metadata": {
        "colab": {
          "base_uri": "https://localhost:8080/"
        },
        "id": "pPOFTn6rAMTc",
        "outputId": "dbcc8b43-192f-496e-b853-bdecbbde301e"
      },
      "outputs": [
        {
          "name": "stdout",
          "output_type": "stream",
          "text": [
            "Unzipping file\n"
          ]
        }
      ],
      "source": [
        "data_path = Path(\"data/\")\n",
        "image_path = Path(\"data/\")\n",
        "\n",
        "with zipfile.ZipFile(\"./data.zip\", \"r\") as zip_ref:\n",
        "    print(\"Unzipping file\")\n",
        "    zip_ref.extractall(data_path)\n"
      ]
    },
    {
      "cell_type": "code",
      "execution_count": 7,
      "metadata": {
        "id": "irwea9I6Ad6G"
      },
      "outputs": [],
      "source": [
        "def walk_through_dir(dir_path):\n",
        "  for dirpath, dirnames, filenames in os.walk(dir_path):\n",
        "    print(f\"There are {len(dirnames)} directories and {len(filenames)} images in {dirpath}\")"
      ]
    },
    {
      "cell_type": "code",
      "execution_count": 8,
      "metadata": {
        "colab": {
          "base_uri": "https://localhost:8080/"
        },
        "id": "WrPuKM0KA0hV",
        "outputId": "72ac2170-54e5-431a-a931-12286507cba2"
      },
      "outputs": [
        {
          "name": "stdout",
          "output_type": "stream",
          "text": [
            "There are 2 directories and 0 images in data/\n",
            "There are 14 directories and 0 images in data/test\n",
            "There are 0 directories and 54 images in data/test/four\n",
            "There are 0 directories and 54 images in data/test/seven\n",
            "There are 0 directories and 54 images in data/test/five\n",
            "There are 0 directories and 53 images in data/test/six\n",
            "There are 0 directories and 55 images in data/test/one\n",
            "There are 0 directories and 54 images in data/test/eight\n",
            "There are 0 directories and 78 images in data/test/div\n",
            "There are 0 directories and 52 images in data/test/zero\n",
            "There are 0 directories and 54 images in data/test/three\n",
            "There are 0 directories and 54 images in data/test/two\n",
            "There are 0 directories and 54 images in data/test/nine\n",
            "There are 0 directories and 80 images in data/test/times\n",
            "There are 0 directories and 78 images in data/test/plus\n",
            "There are 0 directories and 80 images in data/test/minus\n",
            "There are 14 directories and 0 images in data/train\n",
            "There are 0 directories and 7827 images in data/train/four\n",
            "There are 0 directories and 3339 images in data/train/seven\n",
            "There are 0 directories and 3976 images in data/train/five\n",
            "There are 0 directories and 3547 images in data/train/six\n",
            "There are 0 directories and 26952 images in data/train/one\n",
            "There are 0 directories and 3497 images in data/train/eight\n",
            "There are 0 directories and 1412 images in data/train/div\n",
            "There are 0 directories and 7340 images in data/train/zero\n",
            "There are 0 directories and 11338 images in data/train/three\n",
            "There are 0 directories and 26571 images in data/train/two\n",
            "There are 0 directories and 4167 images in data/train/nine\n",
            "There are 0 directories and 3806 images in data/train/times\n",
            "There are 0 directories and 25657 images in data/train/plus\n",
            "There are 0 directories and 34546 images in data/train/minus\n"
          ]
        }
      ],
      "source": [
        "walk_through_dir(\"data/\")"
      ]
    },
    {
      "cell_type": "code",
      "execution_count": 9,
      "metadata": {
        "id": "Ryd9goUZA1kT"
      },
      "outputs": [],
      "source": [
        "train_dir = data_path / \"train\"\n",
        "test_dir = data_path / \"test\""
      ]
    },
    {
      "cell_type": "markdown",
      "metadata": {
        "id": "sp1Hjwn_A6O1"
      },
      "source": [
        "### 2. Vizualizacija dataseta"
      ]
    },
    {
      "cell_type": "code",
      "execution_count": 10,
      "metadata": {
        "colab": {
          "base_uri": "https://localhost:8080/"
        },
        "id": "jxza_OWVA-3W",
        "outputId": "0ddcf2e7-b67e-4d3b-9fbe-4b394aea69ae"
      },
      "outputs": [
        {
          "data": {
            "text/plain": [
              "[PosixPath('data/test/four/39810.jpg'),\n",
              " PosixPath('data/test/four/52646.jpg'),\n",
              " PosixPath('data/test/four/73742.jpg'),\n",
              " PosixPath('data/test/four/24598.jpg'),\n",
              " PosixPath('data/test/four/25005.jpg')]"
            ]
          },
          "execution_count": 10,
          "metadata": {},
          "output_type": "execute_result"
        }
      ],
      "source": [
        "random.seed(42)\n",
        "\n",
        "# Get all image paths\n",
        "image_path_list = list(image_path.glob(\"*/*/*.jpg\"))\n",
        "\n",
        "image_path_list[:5]"
      ]
    },
    {
      "cell_type": "code",
      "execution_count": 11,
      "metadata": {
        "colab": {
          "base_uri": "https://localhost:8080/"
        },
        "id": "C9MPhDYLBE01",
        "outputId": "4cf63af7-69d1-4089-924e-fdcca81503b5"
      },
      "outputs": [
        {
          "name": "stdout",
          "output_type": "stream",
          "text": [
            "data/train/one/exp48777.jpg\n"
          ]
        }
      ],
      "source": [
        "# Pick a random image path\n",
        "random_image_path = random.choice(image_path_list)\n",
        "print(random_image_path)"
      ]
    },
    {
      "cell_type": "code",
      "execution_count": 12,
      "metadata": {
        "colab": {
          "base_uri": "https://localhost:8080/",
          "height": 35
        },
        "id": "eAjSrZD_BGGq",
        "outputId": "1da01cbd-61d9-47fd-d5ae-64a28010ba90"
      },
      "outputs": [
        {
          "data": {
            "application/vnd.google.colaboratory.intrinsic+json": {
              "type": "string"
            },
            "text/plain": [
              "'one'"
            ]
          },
          "execution_count": 12,
          "metadata": {},
          "output_type": "execute_result"
        }
      ],
      "source": [
        "# Get image clas from path name\n",
        "image_class = random_image_path.parent.stem\n",
        "image_class"
      ]
    },
    {
      "cell_type": "code",
      "execution_count": 13,
      "metadata": {
        "colab": {
          "base_uri": "https://localhost:8080/",
          "height": 114
        },
        "id": "1YZqvphxBIDO",
        "outputId": "1c643f3a-c755-454e-8a5f-e38a9a057082"
      },
      "outputs": [
        {
          "name": "stdout",
          "output_type": "stream",
          "text": [
            "Random image path: data/train/one/exp48777.jpg\n",
            "Image class: one\n",
            "Image height: 45 | Image widht: 45\n"
          ]
        },
        {
          "data": {
            "image/png": "[encoded data removed]",
            "text/plain": [
              "<PIL.JpegImagePlugin.JpegImageFile image mode=L size=45x45>"
            ]
          },
          "execution_count": 13,
          "metadata": {},
          "output_type": "execute_result"
        }
      ],
      "source": [
        "# Open image\n",
        "img = Image.open(random_image_path)\n",
        "\n",
        "# print metadata\n",
        "print(f\"Random image path: {random_image_path}\")\n",
        "print(f\"Image class: {image_class}\")\n",
        "print(f\"Image height: {img.height} | Image widht: {img.width}\")\n",
        "img"
      ]
    },
    {
      "cell_type": "code",
      "execution_count": 14,
      "metadata": {
        "colab": {
          "base_uri": "https://localhost:8080/",
          "height": 461
        },
        "id": "fgP35_vyBKtV",
        "outputId": "752f1ebc-ac1e-4ab4-d39c-0e1570c911aa"
      },
      "outputs": [
        {
          "data": {
            "text/plain": [
              "(-0.5, 44.5, 44.5, -0.5)"
            ]
          },
          "execution_count": 14,
          "metadata": {},
          "output_type": "execute_result"
        },
        {
          "data": {
            "image/png": "[encoded data removed]",
            "text/plain": [
              "<Figure size 500x500 with 1 Axes>"
            ]
          },
          "metadata": {},
          "output_type": "display_data"
        }
      ],
      "source": [
        "# Turn image into an array\n",
        "image_as_array = np.asarray(img)\n",
        "\n",
        "# Plot the image\n",
        "plt.figure(figsize=(5, 5))\n",
        "plt.imshow(image_as_array)\n",
        "plt.title(f\"Image class: {image_class} | Image shape: {image_as_array.shape} -> [height, width, color_channels]\")\n",
        "plt.axis(False)"
      ]
    },
    {
      "cell_type": "code",
      "execution_count": 15,
      "metadata": {
        "id": "E8X9NRlUBUwL"
      },
      "outputs": [],
      "source": [
        "data_transform = transforms.Compose([\n",
        "    # Resize images to 64x64\n",
        "    transforms.Resize(size=(64, 64)),\n",
        "    # Flip the images randomly on the horoziontal\n",
        "    transforms.RandomHorizontalFlip(p=0.5),\n",
        "    # Turn image into a torch tensor\n",
        "    transforms.ToTensor()\n",
        "])"
      ]
    },
    {
      "cell_type": "code",
      "execution_count": 16,
      "metadata": {
        "colab": {
          "base_uri": "https://localhost:8080/"
        },
        "id": "eiXTFINJBe5e",
        "outputId": "5af564a1-da3b-47d2-9d13-d5b60dbaa1e6"
      },
      "outputs": [
        {
          "data": {
            "text/plain": [
              "torch.Size([1, 64, 64])"
            ]
          },
          "execution_count": 16,
          "metadata": {},
          "output_type": "execute_result"
        }
      ],
      "source": [
        "data_transform(img).shape"
      ]
    },
    {
      "cell_type": "code",
      "execution_count": 17,
      "metadata": {
        "colab": {
          "base_uri": "https://localhost:8080/",
          "height": 1000
        },
        "id": "SKMWLttqBgX9",
        "outputId": "8387f91b-7767-445c-8136-28562facc5bb"
      },
      "outputs": [
        {
          "data": {
            "image/png": "[encoded data removed]",
            "text/plain": [
              "<Figure size 640x480 with 2 Axes>"
            ]
          },
          "metadata": {},
          "output_type": "display_data"
        },
        {
          "data": {
            "image/png": "[encoded data removed]",
            "text/plain": [
              "<Figure size 640x480 with 2 Axes>"
            ]
          },
          "metadata": {},
          "output_type": "display_data"
        },
        {
          "data": {
            "image/png": "[encoded data removed]",
            "text/plain": [
              "<Figure size 640x480 with 2 Axes>"
            ]
          },
          "metadata": {},
          "output_type": "display_data"
        }
      ],
      "source": [
        "def plot_transformed_images(image_paths: list, transform, n=3, seed=42):\n",
        "  #random.seed(seed)\n",
        "  random_image_paths = random.sample(image_paths, k=n)\n",
        "  for image_path in random_image_paths:\n",
        "    with Image.open(image_path) as f:\n",
        "      fig, ax = plt.subplots(nrows=1, ncols=2)\n",
        "      ax[0].imshow(f)\n",
        "      ax[0].set_title(f\"Original\\nSize: {f.size}\")\n",
        "      ax[0].axis(False)\n",
        "\n",
        "      # Transform and plot target image\n",
        "      transformed_image = transform(f).permute(1, 2, 0) # (C, H, W) -> (H, W, C)\n",
        "      ax[1].imshow(transformed_image)\n",
        "      ax[1].set_title(f\"Transformed\\nShape: {transformed_image.shape}\")\n",
        "      ax[1].axis(False)\n",
        "\n",
        "      fig.suptitle(f\"Class: {image_path.parent.stem}\", fontsize=16)\n",
        "\n",
        "plot_transformed_images(image_paths=image_path_list, transform=data_transform, n=3, seed=42)"
      ]
    },
    {
      "cell_type": "code",
      "execution_count": 18,
      "metadata": {
        "id": "6eIgm9Q8BjBz"
      },
      "outputs": [],
      "source": [
        "def display_random_images(dataset: torch.utils.data.Dataset,\n",
        "                          classes = None,\n",
        "                          n: int = 10,\n",
        "                          display_shape: bool = True,\n",
        "                          seed: int = None):\n",
        "  if n > 10:\n",
        "    n = 10\n",
        "    display_shape = False\n",
        "\n",
        "  if seed:\n",
        "    random.seed(seed)\n",
        "\n",
        "  random_samples_idx = random.sample(range(len(dataset)), k=n)\n",
        "\n",
        "  plt.figure(figsize=(16, 8))\n",
        "\n",
        "  for i, targ_sample in enumerate(random_samples_idx):\n",
        "    targ_image, targ_label = dataset[targ_sample][0], dataset[targ_sample][1]\n",
        "\n",
        "    targ_image_adjust = targ_image.permute(1, 2, 0)\n",
        "\n",
        "    plt.subplot(1, n, i+1)\n",
        "    plt.imshow(targ_image_adjust)\n",
        "    plt.axis(False)\n",
        "    if classes:\n",
        "      title = f\"Class: {classes[targ_label]}\"\n",
        "      if display_shape:\n",
        "        title = title + f\"\\nShape: {targ_image_adjust.shape}\"\n",
        "    plt.title(title)"
      ]
    },
    {
      "cell_type": "code",
      "execution_count": 19,
      "metadata": {
        "colab": {
          "base_uri": "https://localhost:8080/"
        },
        "id": "z90POXAPGJL0",
        "outputId": "6fb64727-a289-4f3d-af6b-d4f7ed866383"
      },
      "outputs": [
        {
          "data": {
            "text/plain": [
              "(Dataset ImageFolder\n",
              "     Number of datapoints: 163975\n",
              "     Root location: data/train\n",
              "     StandardTransform\n",
              " Transform: Compose(\n",
              "                Resize(size=(64, 64), interpolation=bilinear, max_size=None, antialias=warn)\n",
              "                RandomHorizontalFlip(p=0.5)\n",
              "                ToTensor()\n",
              "            ),\n",
              " Dataset ImageFolder\n",
              "     Number of datapoints: 854\n",
              "     Root location: data/test\n",
              "     StandardTransform\n",
              " Transform: Compose(\n",
              "                Resize(size=(64, 64), interpolation=bilinear, max_size=None, antialias=warn)\n",
              "                RandomHorizontalFlip(p=0.5)\n",
              "                ToTensor()\n",
              "            ))"
            ]
          },
          "execution_count": 19,
          "metadata": {},
          "output_type": "execute_result"
        }
      ],
      "source": [
        "train_data = datasets.ImageFolder(root=train_dir,\n",
        "                                  transform=data_transform,\n",
        "                                  target_transform=None)\n",
        "\n",
        "test_data = datasets.ImageFolder(root=test_dir,\n",
        "                                 transform=data_transform,\n",
        "                                 target_transform=None)\n",
        "train_data, test_data"
      ]
    },
    {
      "cell_type": "code",
      "execution_count": 20,
      "metadata": {
        "colab": {
          "base_uri": "https://localhost:8080/"
        },
        "id": "a-W64VFoGRAE",
        "outputId": "34c5d542-15ce-4efe-dbcc-3a0e74df2abb"
      },
      "outputs": [
        {
          "data": {
            "text/plain": [
              "(163975, 854)"
            ]
          },
          "execution_count": 20,
          "metadata": {},
          "output_type": "execute_result"
        }
      ],
      "source": [
        "len(train_data), len(test_data)"
      ]
    },
    {
      "cell_type": "code",
      "execution_count": 21,
      "metadata": {
        "colab": {
          "base_uri": "https://localhost:8080/"
        },
        "id": "xlrORDLbGUJ8",
        "outputId": "3a017fae-6695-4079-a540-b42fc6cb0993"
      },
      "outputs": [
        {
          "data": {
            "text/plain": [
              "['div',\n",
              " 'eight',\n",
              " 'five',\n",
              " 'four',\n",
              " 'minus',\n",
              " 'nine',\n",
              " 'one',\n",
              " 'plus',\n",
              " 'seven',\n",
              " 'six',\n",
              " 'three',\n",
              " 'times',\n",
              " 'two',\n",
              " 'zero']"
            ]
          },
          "execution_count": 21,
          "metadata": {},
          "output_type": "execute_result"
        }
      ],
      "source": [
        "# Get class names as a list\n",
        "class_names = train_data.classes\n",
        "class_names"
      ]
    },
    {
      "cell_type": "code",
      "execution_count": 22,
      "metadata": {
        "colab": {
          "base_uri": "https://localhost:8080/",
          "height": 293
        },
        "id": "r684HzXjGay6",
        "outputId": "9074a977-75a9-4de5-dd57-faad20355a94"
      },
      "outputs": [
        {
          "data": {
            "image/png": "[encoded data removed]",
            "text/plain": [
              "<Figure size 1600x800 with 5 Axes>"
            ]
          },
          "metadata": {},
          "output_type": "display_data"
        }
      ],
      "source": [
        "display_random_images(train_data, n=5, classes=class_names, seed=None)"
      ]
    },
    {
      "cell_type": "markdown",
      "metadata": {
        "id": "Q2Z1FK_tGqbv"
      },
      "source": [
        "### 3. Izgradnja i treniranje modela"
      ]
    },
    {
      "cell_type": "code",
      "execution_count": 23,
      "metadata": {
        "id": "honePHFuGtIf"
      },
      "outputs": [],
      "source": [
        "# Load and transform data\n",
        "\n",
        "simple_transform = transforms.Compose([\n",
        "    transforms.Resize(size=(64, 64)),\n",
        "    transforms.Grayscale(num_output_channels=1),\n",
        "    transforms.ToTensor()\n",
        "])\n",
        "\n",
        "train_data_simple = datasets.ImageFolder(root=train_dir, transform=simple_transform)\n",
        "test_data_simple = datasets.ImageFolder(root=test_dir, transform=simple_transform)\n",
        "\n",
        "BATCH_SIZE = 64\n",
        "NUM_WORKERS = os.cpu_count()\n",
        "\n",
        "train_dataloader_simple = DataLoader(dataset=train_data_simple,\n",
        "                                     batch_size=BATCH_SIZE,\n",
        "                                     shuffle=True,\n",
        "                                     num_workers=NUM_WORKERS)\n",
        "test_dataloader_simple = DataLoader(dataset=test_data_simple,\n",
        "                                     batch_size=BATCH_SIZE,\n",
        "                                     shuffle=True,\n",
        "                                     num_workers=NUM_WORKERS)"
      ]
    },
    {
      "cell_type": "code",
      "execution_count": 24,
      "metadata": {
        "id": "_pikB_S9G3W_"
      },
      "outputs": [],
      "source": [
        "class ResidualBlock(nn.Module):\n",
        "  def __init__(self, in_channels, out_channels, stride = 1, downsample = None):\n",
        "    super(ResidualBlock, self).__init__()\n",
        "    self.conv1 = nn.Sequential(\n",
        "                    nn.Conv2d(in_channels, out_channels, kernel_size = 3, stride = stride, padding = 1),\n",
        "                    nn.BatchNorm2d(out_channels),\n",
        "                    nn.ReLU())\n",
        "    self.conv2 = nn.Sequential(\n",
        "                    nn.Conv2d(out_channels, out_channels, kernel_size = 3, stride = 1, padding = 1),\n",
        "                    nn.BatchNorm2d(out_channels))\n",
        "    self.downsample = downsample\n",
        "    self.relu = nn.ReLU()\n",
        "    self.out_channels = out_channels\n",
        "\n",
        "  def forward(self, x):\n",
        "    residual = x\n",
        "    out = self.conv1(x)\n",
        "    out = self.conv2(out)\n",
        "    if self.downsample:\n",
        "        residual = self.downsample(x)\n",
        "    out += residual\n",
        "    out = self.relu(out)\n",
        "    return out\n",
        "\n",
        "class ResNet(nn.Module):\n",
        "  def __init__(self, block, layers, num_classes = 14):\n",
        "    super(ResNet, self).__init__()\n",
        "    self.inplanes = 64\n",
        "    self.conv1 = nn.Sequential(\n",
        "                    nn.Conv2d(1, 64, kernel_size = 3, stride = 1, padding = 1),\n",
        "                    nn.BatchNorm2d(64),\n",
        "                    nn.ReLU())\n",
        "    self.maxpool = nn.MaxPool2d(kernel_size = 3, stride = 2, padding = 1)\n",
        "    self.layer0 = self._make_layer(block, 64, layers[0], stride = 1)\n",
        "    self.layer1 = self._make_layer(block, 128, layers[1], stride = 2)\n",
        "    self.layer2 = self._make_layer(block, 256, layers[2], stride = 2)\n",
        "    self.layer3 = self._make_layer(block, 512, layers[3], stride = 2)\n",
        "    self.avgpool = nn.AvgPool2d(2, stride=1)\n",
        "    self.fc = nn.Linear(4608, num_classes)\n",
        "\n",
        "  def _make_layer(self, block, planes, blocks, stride=1):\n",
        "    downsample = None\n",
        "    if stride != 1 or self.inplanes != planes:\n",
        "\n",
        "        downsample = nn.Sequential(\n",
        "            nn.Conv2d(self.inplanes, planes, kernel_size=1, stride=stride),\n",
        "            nn.BatchNorm2d(planes),\n",
        "        )\n",
        "    layers = []\n",
        "    layers.append(block(self.inplanes, planes, stride, downsample))\n",
        "    self.inplanes = planes\n",
        "    for i in range(1, blocks):\n",
        "        layers.append(block(self.inplanes, planes))\n",
        "\n",
        "    return nn.Sequential(*layers)\n",
        "\n",
        "\n",
        "  def forward(self, x):\n",
        "    x = self.conv1(x)\n",
        "    x = self.maxpool(x)\n",
        "    x = self.layer0(x)\n",
        "    x = self.layer1(x)\n",
        "    x = self.layer2(x)\n",
        "    x = self.layer3(x)\n",
        "\n",
        "    x = self.avgpool(x)\n",
        "    x = x.view(x.size(0), -1)\n",
        "    x = self.fc(x)\n",
        "\n",
        "    return x"
      ]
    },
    {
      "cell_type": "code",
      "execution_count": 25,
      "metadata": {
        "id": "g372crQKG_2n"
      },
      "outputs": [],
      "source": [
        "\n",
        "def train_step(model: torch.nn.Module,\n",
        "               dataloader: torch.utils.data.DataLoader,\n",
        "               loss_fn: torch.nn.Module,\n",
        "               optimizer: torch.optim.Optimizer,\n",
        "               device=device):\n",
        "\n",
        "  model.train()\n",
        "\n",
        "  train_loss, train_acc = 0, 0\n",
        "\n",
        "  for batch, (X, y) in enumerate(dataloader):\n",
        "    X, y = X.to(device), y.to(device)\n",
        "\n",
        "    y_pred = model(X)\n",
        "\n",
        "    loss = loss_fn(y_pred, y)\n",
        "    train_loss += loss.item()\n",
        "\n",
        "    optimizer.zero_grad()\n",
        "\n",
        "    loss.backward()\n",
        "\n",
        "    optimizer.step()\n",
        "\n",
        "    y_pred_class = torch.argmax(torch.softmax(y_pred, dim=1), dim=1)\n",
        "    train_acc += (y_pred_class==y).sum().item()/len(y_pred)\n",
        "\n",
        "  train_loss /= len(dataloader)\n",
        "  train_acc /= len(dataloader)\n",
        "\n",
        "  return train_loss, train_acc"
      ]
    },
    {
      "cell_type": "code",
      "execution_count": 26,
      "metadata": {
        "id": "HU5tzP6GHGUV"
      },
      "outputs": [],
      "source": [
        "def test_step(model: torch.nn.Module,\n",
        "               dataloader: torch.utils.data.DataLoader,\n",
        "               loss_fn: torch.nn.Module,\n",
        "               device=device):\n",
        "  model.eval()\n",
        "\n",
        "  test_loss, test_acc = 0, 0\n",
        "\n",
        "  with torch.inference_mode():\n",
        "    for batch, (X, y) in enumerate(dataloader):\n",
        "      X, y = X.to(device), y.to(device)\n",
        "\n",
        "      test_pred_logits = model(X)\n",
        "\n",
        "      loss = loss_fn(test_pred_logits, y)\n",
        "      test_loss += loss.item()\n",
        "\n",
        "      test_pred_labels = test_pred_logits.argmax(dim=1)\n",
        "      test_acc += (test_pred_labels==y).sum().item() / len(test_pred_labels)\n",
        "\n",
        "  test_loss /= len(dataloader)\n",
        "  test_acc /= len(dataloader)\n",
        "\n",
        "  return test_loss, test_acc"
      ]
    },
    {
      "cell_type": "code",
      "execution_count": 27,
      "metadata": {
        "id": "qk-K_i0tHJBa"
      },
      "outputs": [],
      "source": [
        "def train(model: torch.nn.Module,\n",
        "          train_dataloader: torch.utils.data.DataLoader,\n",
        "          test_dataloader: torch.utils.data.DataLoader,\n",
        "          loss_fn: torch.nn.Module,\n",
        "          optimizer: torch.optim.Optimizer,\n",
        "          epochs=5,\n",
        "          device=device):\n",
        "\n",
        "  # Create empty results dictionary\n",
        "  results = {\"train_loss\": [],\n",
        "             \"train_acc\": [],\n",
        "             \"test_loss\": [],\n",
        "             \"test_acc\": []}\n",
        "  for epoch in tqdm(range(epochs)):\n",
        "    train_loss, train_acc = train_step(model=model,\n",
        "                                       dataloader=train_dataloader,\n",
        "                                       loss_fn=loss_fn,\n",
        "                                       optimizer=optimizer,\n",
        "                                       device=device)\n",
        "\n",
        "    test_loss, test_acc= test_step(model=model,\n",
        "                                       dataloader=test_dataloader,\n",
        "                                       loss_fn=loss_fn,\n",
        "                                       device=device)\n",
        "\n",
        "    print(f\"Epoch: {epoch} | Train loss: {train_loss:.4f} | Train acc: {train_acc:.4f} | Test loss: {test_loss:.4f} | Test acc: {test_acc:.4f}\")\n",
        "\n",
        "    results[\"train_loss\"].append(train_loss)\n",
        "    results[\"train_acc\"].append(train_acc)\n",
        "    results[\"test_acc\"].append(test_acc)\n",
        "    results[\"test_loss\"].append(test_loss)\n",
        "\n",
        "  return results"
      ]
    },
    {
      "cell_type": "code",
      "execution_count": 28,
      "metadata": {
        "colab": {
          "base_uri": "https://localhost:8080/",
          "height": 934,
          "referenced_widgets": [
            "ba20529994244b8d9c0a2edfe134c161",
            "0bd5388df37b436e912e741caf17e334",
            "8e2de9f76cee4b0384dd714c55e24a55",
            "4b6fb0683d0c4a3681e01c34dcd4cb9f",
            "c47c6a5c5b91486586981b736a4d3b76",
            "d1ad6e1e75bb4397a1f5f1fcd365eba2",
            "5da8a6acf3574f9899bbf2c8c8cbb283",
            "d8cd4074e5b8460f875a48d2e29000d4",
            "000e36c1b07b4e4aa4446b89671b9761",
            "29a1a59abd494d20b91a4a3ead443239",
            "ed0922f59f7543cea81cec3410d0ec89"
          ]
        },
        "id": "n5r7qmqvHQa1",
        "outputId": "adfa03e4-92f2-41e9-f1b5-0f52386afcaf"
      },
      "outputs": [
        {
          "data": {
            "application/vnd.jupyter.widget-view+json": {
              "model_id": "ba20529994244b8d9c0a2edfe134c161",
              "version_major": 2,
              "version_minor": 0
            },
            "text/plain": [
              "  0%|          | 0/50 [00:00<?, ?it/s]"
            ]
          },
          "metadata": {},
          "output_type": "display_data"
        },
        {
          "name": "stdout",
          "output_type": "stream",
          "text": [
            "Epoch: 0 | Train loss: 0.2225 | Train acc: 0.9528 | Test loss: 0.2906 | Test acc: 0.9176\n",
            "Epoch: 1 | Train loss: 0.0268 | Train acc: 0.9928 | Test loss: 0.1492 | Test acc: 0.9555\n",
            "Epoch: 2 | Train loss: 0.0198 | Train acc: 0.9947 | Test loss: 0.2970 | Test acc: 0.9244\n",
            "Epoch: 3 | Train loss: 0.0178 | Train acc: 0.9949 | Test loss: 0.1497 | Test acc: 0.9556\n",
            "Epoch: 4 | Train loss: 0.0145 | Train acc: 0.9961 | Test loss: 0.1181 | Test acc: 0.9610\n",
            "Epoch: 5 | Train loss: 0.0135 | Train acc: 0.9965 | Test loss: 0.1680 | Test acc: 0.9510\n",
            "Epoch: 6 | Train loss: 0.0131 | Train acc: 0.9966 | Test loss: 0.0821 | Test acc: 0.9755\n",
            "Epoch: 7 | Train loss: 0.0121 | Train acc: 0.9970 | Test loss: 0.0602 | Test acc: 0.9800\n",
            "Epoch: 8 | Train loss: 0.0123 | Train acc: 0.9971 | Test loss: 0.0870 | Test acc: 0.9821\n",
            "Epoch: 9 | Train loss: 0.0113 | Train acc: 0.9974 | Test loss: 0.1515 | Test acc: 0.9567\n",
            "Epoch: 10 | Train loss: 0.0118 | Train acc: 0.9970 | Test loss: 0.0830 | Test acc: 0.9755\n",
            "Epoch: 11 | Train loss: 0.0113 | Train acc: 0.9973 | Test loss: 0.0807 | Test acc: 0.9778\n",
            "Epoch: 12 | Train loss: 0.0104 | Train acc: 0.9977 | Test loss: 0.1406 | Test acc: 0.9587\n",
            "Epoch: 13 | Train loss: 0.0127 | Train acc: 0.9970 | Test loss: 0.1514 | Test acc: 0.9545\n",
            "Epoch: 14 | Train loss: 0.0120 | Train acc: 0.9971 | Test loss: 0.0693 | Test acc: 0.9799\n",
            "Epoch: 15 | Train loss: 0.0087 | Train acc: 0.9979 | Test loss: 0.2245 | Test acc: 0.9342\n",
            "Epoch: 16 | Train loss: 0.0124 | Train acc: 0.9970 | Test loss: 0.1091 | Test acc: 0.9722\n",
            "Epoch: 17 | Train loss: 0.0104 | Train acc: 0.9975 | Test loss: 0.0478 | Test acc: 0.9866\n",
            "Epoch: 18 | Train loss: 0.0087 | Train acc: 0.9980 | Test loss: 0.0528 | Test acc: 0.9833\n",
            "Epoch: 19 | Train loss: 0.0109 | Train acc: 0.9975 | Test loss: 0.0598 | Test acc: 0.9788\n",
            "Epoch: 20 | Train loss: 0.0110 | Train acc: 0.9972 | Test loss: 0.0978 | Test acc: 0.9688\n",
            "Epoch: 21 | Train loss: 0.0097 | Train acc: 0.9977 | Test loss: 0.0438 | Test acc: 0.9856\n",
            "Epoch: 22 | Train loss: 0.0100 | Train acc: 0.9975 | Test loss: 0.1704 | Test acc: 0.9566\n",
            "Epoch: 23 | Train loss: 0.0092 | Train acc: 0.9978 | Test loss: 0.1834 | Test acc: 0.9477\n",
            "Epoch: 24 | Train loss: 0.0097 | Train acc: 0.9976 | Test loss: 0.0776 | Test acc: 0.9799\n",
            "Epoch: 25 | Train loss: 0.0096 | Train acc: 0.9978 | Test loss: 0.0461 | Test acc: 0.9901\n",
            "Epoch: 26 | Train loss: 0.0089 | Train acc: 0.9980 | Test loss: 0.0518 | Test acc: 0.9844\n",
            "Epoch: 27 | Train loss: 0.0092 | Train acc: 0.9980 | Test loss: 0.0284 | Test acc: 0.9900\n",
            "Epoch: 28 | Train loss: 0.0102 | Train acc: 0.9976 | Test loss: 0.2781 | Test acc: 0.9120\n",
            "Epoch: 29 | Train loss: 0.0082 | Train acc: 0.9981 | Test loss: 0.1154 | Test acc: 0.9655\n",
            "Epoch: 30 | Train loss: 0.0108 | Train acc: 0.9975 | Test loss: 0.1159 | Test acc: 0.9743\n",
            "Epoch: 31 | Train loss: 0.0089 | Train acc: 0.9978 | Test loss: 0.0795 | Test acc: 0.9788\n",
            "Epoch: 32 | Train loss: 0.0083 | Train acc: 0.9980 | Test loss: 0.0588 | Test acc: 0.9821\n",
            "Epoch: 33 | Train loss: 0.0095 | Train acc: 0.9978 | Test loss: 0.0795 | Test acc: 0.9754\n",
            "Epoch: 34 | Train loss: 0.0079 | Train acc: 0.9981 | Test loss: 0.0510 | Test acc: 0.9799\n",
            "Epoch: 35 | Train loss: 0.0108 | Train acc: 0.9973 | Test loss: 0.1504 | Test acc: 0.9643\n",
            "Epoch: 36 | Train loss: 0.0088 | Train acc: 0.9979 | Test loss: 0.0469 | Test acc: 0.9866\n",
            "Epoch: 37 | Train loss: 0.0105 | Train acc: 0.9975 | Test loss: 0.0869 | Test acc: 0.9744\n",
            "Epoch: 38 | Train loss: 0.0086 | Train acc: 0.9980 | Test loss: 0.0865 | Test acc: 0.9744\n",
            "Epoch: 39 | Train loss: 0.0088 | Train acc: 0.9979 | Test loss: 0.0844 | Test acc: 0.9779\n",
            "Epoch: 40 | Train loss: 0.0106 | Train acc: 0.9974 | Test loss: 0.1668 | Test acc: 0.9609\n",
            "Epoch: 41 | Train loss: 0.0081 | Train acc: 0.9981 | Test loss: 0.1407 | Test acc: 0.9633\n",
            "Epoch: 42 | Train loss: 0.0096 | Train acc: 0.9976 | Test loss: 0.0565 | Test acc: 0.9855\n",
            "Epoch: 43 | Train loss: 0.0080 | Train acc: 0.9981 | Test loss: 0.1771 | Test acc: 0.9412\n",
            "Epoch: 44 | Train loss: 0.0095 | Train acc: 0.9978 | Test loss: 0.0937 | Test acc: 0.9744\n",
            "Epoch: 45 | Train loss: 0.0100 | Train acc: 0.9976 | Test loss: 0.0717 | Test acc: 0.9788\n",
            "Epoch: 46 | Train loss: 0.0105 | Train acc: 0.9975 | Test loss: 0.0492 | Test acc: 0.9866\n",
            "Epoch: 47 | Train loss: 0.0084 | Train acc: 0.9981 | Test loss: 0.0460 | Test acc: 0.9888\n",
            "Epoch: 48 | Train loss: 0.0091 | Train acc: 0.9978 | Test loss: 0.0327 | Test acc: 0.9944\n",
            "Epoch: 49 | Train loss: 0.0085 | Train acc: 0.9980 | Test loss: 0.0506 | Test acc: 0.9866\n",
            "Total training time: 6317.260 seconds.\n"
          ]
        }
      ],
      "source": [
        "NUM_EPOCHS = 50\n",
        "\n",
        "model_0 = ResNet(ResidualBlock, [3, 4, 6, 3]).to(device)\n",
        "\n",
        "loss_fn = nn.CrossEntropyLoss()\n",
        "optimizer = torch.optim.SGD(model_0.parameters(), lr=0.01, weight_decay = 0.001, momentum = 0.9)\n",
        "\n",
        "# Start tmer\n",
        "start_time = timer()\n",
        "\n",
        "# Train model\n",
        "model_0_results = train(model=model_0,\n",
        "                        train_dataloader=train_dataloader_simple,\n",
        "                        test_dataloader=test_dataloader_simple,\n",
        "                        loss_fn=loss_fn,\n",
        "                        optimizer=optimizer,\n",
        "                        epochs=NUM_EPOCHS,\n",
        "                        device=device)\n",
        "\n",
        "# End timer\n",
        "end_time = timer()\n",
        "print(f\"Total training time: {end_time-start_time:.3f} seconds.\")"
      ]
    },
    {
      "cell_type": "markdown",
      "metadata": {
        "id": "6RDjiWPxS6YP"
      },
      "source": [
        "### 4. Testiranje modela"
      ]
    },
    {
      "cell_type": "code",
      "execution_count": 29,
      "metadata": {
        "id": "SdDd6z-eTFrf"
      },
      "outputs": [],
      "source": [
        "def pred_and_plot_image(model: torch.nn.Module,\n",
        "                        image: torch.Tensor,\n",
        "                        class_names,\n",
        "                        transform,\n",
        "                        device=device):\n",
        "    model.to(device)\n",
        "    model.eval()\n",
        "\n",
        "    with torch.inference_mode():\n",
        "        image = transform(image.unsqueeze(dim=0).to(device))\n",
        "        image_logits = model(image)\n",
        "\n",
        "    # Convert logits to probs\n",
        "    image_probs = torch.softmax(image_logits, dim=1)\n",
        "    image_label = torch.argmax(image_probs, dim=1)\n",
        "\n",
        "    image = image.cpu()\n",
        "\n",
        "    # Plot\n",
        "    plt.imshow(image.squeeze(), cmap='gray')\n",
        "    if class_names:\n",
        "        plt.title(f\"Class: {class_names[image_label]} | Prob: {image_probs.max():.4f}\")\n",
        "    else:\n",
        "        plt.title(f\"Class: {image_label} | Prob: {image_probs.max().cpu():.4f}\")\n",
        "\n",
        "    plt.axis(False)\n",
        "    plt.show()"
      ]
    },
    {
      "cell_type": "code",
      "execution_count": 63,
      "metadata": {
        "colab": {
          "base_uri": "https://localhost:8080/",
          "height": 428
        },
        "id": "P-DcLyqhTtpQ",
        "outputId": "6a031e6b-3177-4cd0-87da-7757513a0b39"
      },
      "outputs": [
        {
          "data": {
            "image/png": "[encoded data removed]",
            "text/plain": [
              "<Figure size 640x480 with 1 Axes>"
            ]
          },
          "metadata": {},
          "output_type": "display_data"
        }
      ],
      "source": [
        "custom_image_path = Path(\"./test_dir/split_1.jpg\")\n",
        "custom_image = torchvision.io.read_image(str(custom_image_path)).type(torch.float) / 255\n",
        "\n",
        "transform = transforms.Compose([\n",
        "    transforms.Resize(size=(64, 64)),\n",
        "    transforms.Grayscale(num_output_channels=1),\n",
        "])\n",
        "\n",
        "pred_and_plot_image(model=model_0,\n",
        "                    image=custom_image,\n",
        "                    class_names=class_names,\n",
        "                    transform=transform,\n",
        "                    device=device)"
      ]
    },
    {
      "cell_type": "markdown",
      "metadata": {
        "id": "rk9tCMo2UX4u"
      },
      "source": [
        "### 5. Separacija unesene slike na matematičke jedinke"
      ]
    },
    {
      "cell_type": "code",
      "execution_count": 62,
      "metadata": {
        "colab": {
          "base_uri": "https://localhost:8080/",
          "height": 1000
        },
        "id": "dTcJysjaUq3t",
        "outputId": "0fe5c44d-cdeb-4b4e-cf0d-fac9cb158e42"
      },
      "outputs": [
        {
          "data": {
            "image/png": "[encoded data removed]",
            "text/plain": [
              "<Figure size 640x480 with 1 Axes>"
            ]
          },
          "metadata": {},
          "output_type": "display_data"
        },
        {
          "data": {
            "image/png": "[encoded data removed]",
            "text/plain": [
              "<Figure size 640x480 with 1 Axes>"
            ]
          },
          "metadata": {},
          "output_type": "display_data"
        },
        {
          "data": {
            "image/png": "[encoded data removed]",
            "text/plain": [
              "<Figure size 640x480 with 1 Axes>"
            ]
          },
          "metadata": {},
          "output_type": "display_data"
        }
      ],
      "source": [
        "def increase_width(cropped_region, new_width):\n",
        "    # Create a blank white image with the desired width\n",
        "    new_image = np.ones((cropped_region.shape[0], new_width), dtype=np.uint8) * 255\n",
        "\n",
        "    # Calculate the position to paste the cropped region\n",
        "    x_offset = (new_width - cropped_region.shape[1]) // 2\n",
        "\n",
        "    # Paste the cropped region onto the new image\n",
        "    new_image[:, x_offset:x_offset + cropped_region.shape[1]] = cropped_region\n",
        "\n",
        "    return new_image\n",
        "\n",
        "\n",
        "def split_image_by_black_pixels(image_path, output_list):\n",
        "    # Convert image content to NumPy array\n",
        "    image = cv2.imread(image_path, cv2.IMREAD_GRAYSCALE)\n",
        "    image_color = cv2.imread(image_path, cv2.IMREAD_COLOR)\n",
        "    height, width = image.shape\n",
        "\n",
        "    # Invert the image so that black pixels become white\n",
        "    inverted_image = cv2.bitwise_not(image)\n",
        "\n",
        "    # Find contours in the inverted image\n",
        "    contours, _ = cv2.findContours(inverted_image, cv2.RETR_EXTERNAL, cv2.CHAIN_APPROX_SIMPLE)\n",
        "\n",
        "    # Sort contours by x-coordinate\n",
        "    contours = sorted(contours, key=lambda x: cv2.boundingRect(x)[0])\n",
        "\n",
        "    # Iterate through contours and append regions without black pixels to the list\n",
        "    cropped_regions = []\n",
        "    for i, contour in enumerate(contours):\n",
        "        x, y, w, h = cv2.boundingRect(contour)\n",
        "\n",
        "        # Filter out small regions\n",
        "        if w > 10 and h > 10:  # Adjust the threshold as needed\n",
        "            # Crop the region without black pixels\n",
        "            cropped_region = image[y:y+h, x:x+w]\n",
        "            dict_cropped_region = {'x': x, \"y\": y, \"w\":w, \"h\": h, \"is_div\": False}\n",
        "\n",
        "            is_part_of_bigger = False\n",
        "\n",
        "            for i, tmp_region in enumerate(cropped_regions):\n",
        "              if (\n",
        "                  dict_cropped_region[\"x\"] >= tmp_region[\"x\"] - 5\n",
        "                  and dict_cropped_region[\"x\"] + dict_cropped_region[\"w\"] <= tmp_region[\"x\"] + tmp_region[\"w\"] + 5\n",
        "              ):\n",
        "                  tmp_region[\"y\"] = 0\n",
        "                  tmp_region[\"h\"] = height\n",
        "                  tmp_region[\"is_div\"] = True\n",
        "                  cropped_regions[i] = tmp_region\n",
        "                  is_part_of_bigger = True\n",
        "\n",
        "            if is_part_of_bigger:\n",
        "              continue\n",
        "\n",
        "            cropped_regions.append(dict_cropped_region)\n",
        "\n",
        "    for region in cropped_regions:\n",
        "      cropped_region = image[region[\"y\"]:region[\"y\"]+region[\"h\"], region[\"x\"]:region[\"x\"]+region[\"w\"]]\n",
        "      output_list.append(cropped_region)\n",
        "      plt.imshow(increase_width(cropped_region, 512), cmap='gray')  # Use 'gray' colormap for grayscale images\n",
        "      plt.title(f\"Split {i}\")\n",
        "      plt.show()\n",
        "\n",
        "image_path = \"test2.jpg\"\n",
        "output_images = []\n",
        "\n",
        "split_image_by_black_pixels(image_path, output_images)"
      ]
    },
    {
      "cell_type": "markdown",
      "metadata": {
        "id": "q5pSqGFHQkUt"
      },
      "source": [
        "### 5. Pohrana modela"
      ]
    },
    {
      "cell_type": "code",
      "execution_count": 30,
      "metadata": {
        "colab": {
          "base_uri": "https://localhost:8080/"
        },
        "id": "exoBi165QnE5",
        "outputId": "845a0c5a-8dee-44e4-b20a-91b13bfd70ab"
      },
      "outputs": [
        {
          "name": "stdout",
          "output_type": "stream",
          "text": [
            "Saving model to: models/simple_photomath_3.pth\n"
          ]
        }
      ],
      "source": [
        "MODEL_PATH = Path(\"models\")\n",
        "MODEL_PATH.mkdir(parents=True, exist_ok=True)\n",
        "\n",
        "MODEL_NAME = \"simple_photomath.pth\"\n",
        "\n",
        "MODEL_SAVE_PATH = MODEL_PATH / MODEL_NAME\n",
        "\n",
        "print(f\"Saving model to: {MODEL_SAVE_PATH}\")\n",
        "torch.save(obj=model_0.state_dict(),\n",
        "           f=MODEL_SAVE_PATH)"
      ]
    }
  ],
  "metadata": {
    "accelerator": "GPU",
    "colab": {
      "gpuType": "V100",
      "provenance": []
    },
    "kernelspec": {
      "display_name": "Python 3",
      "name": "python3"
    },
    "language_info": {
      "name": "python"
    },
    "widgets": {
      "application/vnd.jupyter.widget-state+json": {
        "000e36c1b07b4e4aa4446b89671b9761": {
          "model_module": "@jupyter-widgets/controls",
          "model_module_version": "1.5.0",
          "model_name": "ProgressStyleModel",
          "state": {
            "_model_module": "@jupyter-widgets/controls",
            "_model_module_version": "1.5.0",
            "_model_name": "ProgressStyleModel",
            "_view_count": null,
            "_view_module": "@jupyter-widgets/base",
            "_view_module_version": "1.2.0",
            "_view_name": "StyleView",
            "bar_color": null,
            "description_width": ""
          }
        },
        "0bd5388df37b436e912e741caf17e334": {
          "model_module": "@jupyter-widgets/controls",
          "model_module_version": "1.5.0",
          "model_name": "HTMLModel",
          "state": {
            "_dom_classes": [],
            "_model_module": "@jupyter-widgets/controls",
            "_model_module_version": "1.5.0",
            "_model_name": "HTMLModel",
            "_view_count": null,
            "_view_module": "@jupyter-widgets/controls",
            "_view_module_version": "1.5.0",
            "_view_name": "HTMLView",
            "description": "",
            "description_tooltip": null,
            "layout": "IPY_MODEL_d1ad6e1e75bb4397a1f5f1fcd365eba2",
            "placeholder": "​",
            "style": "IPY_MODEL_5da8a6acf3574f9899bbf2c8c8cbb283",
            "value": "100%"
          }
        },
        "29a1a59abd494d20b91a4a3ead443239": {
          "model_module": "@jupyter-widgets/base",
          "model_module_version": "1.2.0",
          "model_name": "LayoutModel",
          "state": {
            "_model_module": "@jupyter-widgets/base",
            "_model_module_version": "1.2.0",
            "_model_name": "LayoutModel",
            "_view_count": null,
            "_view_module": "@jupyter-widgets/base",
            "_view_module_version": "1.2.0",
            "_view_name": "LayoutView",
            "align_content": null,
            "align_items": null,
            "align_self": null,
            "border": null,
            "bottom": null,
            "display": null,
            "flex": null,
            "flex_flow": null,
            "grid_area": null,
            "grid_auto_columns": null,
            "grid_auto_flow": null,
            "grid_auto_rows": null,
            "grid_column": null,
            "grid_gap": null,
            "grid_row": null,
            "grid_template_areas": null,
            "grid_template_columns": null,
            "grid_template_rows": null,
            "height": null,
            "justify_content": null,
            "justify_items": null,
            "left": null,
            "margin": null,
            "max_height": null,
            "max_width": null,
            "min_height": null,
            "min_width": null,
            "object_fit": null,
            "object_position": null,
            "order": null,
            "overflow": null,
            "overflow_x": null,
            "overflow_y": null,
            "padding": null,
            "right": null,
            "top": null,
            "visibility": null,
            "width": null
          }
        },
        "4b6fb0683d0c4a3681e01c34dcd4cb9f": {
          "model_module": "@jupyter-widgets/controls",
          "model_module_version": "1.5.0",
          "model_name": "HTMLModel",
          "state": {
            "_dom_classes": [],
            "_model_module": "@jupyter-widgets/controls",
            "_model_module_version": "1.5.0",
            "_model_name": "HTMLModel",
            "_view_count": null,
            "_view_module": "@jupyter-widgets/controls",
            "_view_module_version": "1.5.0",
            "_view_name": "HTMLView",
            "description": "",
            "description_tooltip": null,
            "layout": "IPY_MODEL_29a1a59abd494d20b91a4a3ead443239",
            "placeholder": "​",
            "style": "IPY_MODEL_ed0922f59f7543cea81cec3410d0ec89",
            "value": " 50/50 [1:45:17&lt;00:00, 124.76s/it]"
          }
        },
        "5da8a6acf3574f9899bbf2c8c8cbb283": {
          "model_module": "@jupyter-widgets/controls",
          "model_module_version": "1.5.0",
          "model_name": "DescriptionStyleModel",
          "state": {
            "_model_module": "@jupyter-widgets/controls",
            "_model_module_version": "1.5.0",
            "_model_name": "DescriptionStyleModel",
            "_view_count": null,
            "_view_module": "@jupyter-widgets/base",
            "_view_module_version": "1.2.0",
            "_view_name": "StyleView",
            "description_width": ""
          }
        },
        "8e2de9f76cee4b0384dd714c55e24a55": {
          "model_module": "@jupyter-widgets/controls",
          "model_module_version": "1.5.0",
          "model_name": "FloatProgressModel",
          "state": {
            "_dom_classes": [],
            "_model_module": "@jupyter-widgets/controls",
            "_model_module_version": "1.5.0",
            "_model_name": "FloatProgressModel",
            "_view_count": null,
            "_view_module": "@jupyter-widgets/controls",
            "_view_module_version": "1.5.0",
            "_view_name": "ProgressView",
            "bar_style": "success",
            "description": "",
            "description_tooltip": null,
            "layout": "IPY_MODEL_d8cd4074e5b8460f875a48d2e29000d4",
            "max": 50,
            "min": 0,
            "orientation": "horizontal",
            "style": "IPY_MODEL_000e36c1b07b4e4aa4446b89671b9761",
            "value": 50
          }
        },
        "ba20529994244b8d9c0a2edfe134c161": {
          "model_module": "@jupyter-widgets/controls",
          "model_module_version": "1.5.0",
          "model_name": "HBoxModel",
          "state": {
            "_dom_classes": [],
            "_model_module": "@jupyter-widgets/controls",
            "_model_module_version": "1.5.0",
            "_model_name": "HBoxModel",
            "_view_count": null,
            "_view_module": "@jupyter-widgets/controls",
            "_view_module_version": "1.5.0",
            "_view_name": "HBoxView",
            "box_style": "",
            "children": [
              "IPY_MODEL_0bd5388df37b436e912e741caf17e334",
              "IPY_MODEL_8e2de9f76cee4b0384dd714c55e24a55",
              "IPY_MODEL_4b6fb0683d0c4a3681e01c34dcd4cb9f"
            ],
            "layout": "IPY_MODEL_c47c6a5c5b91486586981b736a4d3b76"
          }
        },
        "c47c6a5c5b91486586981b736a4d3b76": {
          "model_module": "@jupyter-widgets/base",
          "model_module_version": "1.2.0",
          "model_name": "LayoutModel",
          "state": {
            "_model_module": "@jupyter-widgets/base",
            "_model_module_version": "1.2.0",
            "_model_name": "LayoutModel",
            "_view_count": null,
            "_view_module": "@jupyter-widgets/base",
            "_view_module_version": "1.2.0",
            "_view_name": "LayoutView",
            "align_content": null,
            "align_items": null,
            "align_self": null,
            "border": null,
            "bottom": null,
            "display": null,
            "flex": null,
            "flex_flow": null,
            "grid_area": null,
            "grid_auto_columns": null,
            "grid_auto_flow": null,
            "grid_auto_rows": null,
            "grid_column": null,
            "grid_gap": null,
            "grid_row": null,
            "grid_template_areas": null,
            "grid_template_columns": null,
            "grid_template_rows": null,
            "height": null,
            "justify_content": null,
            "justify_items": null,
            "left": null,
            "margin": null,
            "max_height": null,
            "max_width": null,
            "min_height": null,
            "min_width": null,
            "object_fit": null,
            "object_position": null,
            "order": null,
            "overflow": null,
            "overflow_x": null,
            "overflow_y": null,
            "padding": null,
            "right": null,
            "top": null,
            "visibility": null,
            "width": null
          }
        },
        "d1ad6e1e75bb4397a1f5f1fcd365eba2": {
          "model_module": "@jupyter-widgets/base",
          "model_module_version": "1.2.0",
          "model_name": "LayoutModel",
          "state": {
            "_model_module": "@jupyter-widgets/base",
            "_model_module_version": "1.2.0",
            "_model_name": "LayoutModel",
            "_view_count": null,
            "_view_module": "@jupyter-widgets/base",
            "_view_module_version": "1.2.0",
            "_view_name": "LayoutView",
            "align_content": null,
            "align_items": null,
            "align_self": null,
            "border": null,
            "bottom": null,
            "display": null,
            "flex": null,
            "flex_flow": null,
            "grid_area": null,
            "grid_auto_columns": null,
            "grid_auto_flow": null,
            "grid_auto_rows": null,
            "grid_column": null,
            "grid_gap": null,
            "grid_row": null,
            "grid_template_areas": null,
            "grid_template_columns": null,
            "grid_template_rows": null,
            "height": null,
            "justify_content": null,
            "justify_items": null,
            "left": null,
            "margin": null,
            "max_height": null,
            "max_width": null,
            "min_height": null,
            "min_width": null,
            "object_fit": null,
            "object_position": null,
            "order": null,
            "overflow": null,
            "overflow_x": null,
            "overflow_y": null,
            "padding": null,
            "right": null,
            "top": null,
            "visibility": null,
            "width": null
          }
        },
        "d8cd4074e5b8460f875a48d2e29000d4": {
          "model_module": "@jupyter-widgets/base",
          "model_module_version": "1.2.0",
          "model_name": "LayoutModel",
          "state": {
            "_model_module": "@jupyter-widgets/base",
            "_model_module_version": "1.2.0",
            "_model_name": "LayoutModel",
            "_view_count": null,
            "_view_module": "@jupyter-widgets/base",
            "_view_module_version": "1.2.0",
            "_view_name": "LayoutView",
            "align_content": null,
            "align_items": null,
            "align_self": null,
            "border": null,
            "bottom": null,
            "display": null,
            "flex": null,
            "flex_flow": null,
            "grid_area": null,
            "grid_auto_columns": null,
            "grid_auto_flow": null,
            "grid_auto_rows": null,
            "grid_column": null,
            "grid_gap": null,
            "grid_row": null,
            "grid_template_areas": null,
            "grid_template_columns": null,
            "grid_template_rows": null,
            "height": null,
            "justify_content": null,
            "justify_items": null,
            "left": null,
            "margin": null,
            "max_height": null,
            "max_width": null,
            "min_height": null,
            "min_width": null,
            "object_fit": null,
            "object_position": null,
            "order": null,
            "overflow": null,
            "overflow_x": null,
            "overflow_y": null,
            "padding": null,
            "right": null,
            "top": null,
            "visibility": null,
            "width": null
          }
        },
        "ed0922f59f7543cea81cec3410d0ec89": {
          "model_module": "@jupyter-widgets/controls",
          "model_module_version": "1.5.0",
          "model_name": "DescriptionStyleModel",
          "state": {
            "_model_module": "@jupyter-widgets/controls",
            "_model_module_version": "1.5.0",
            "_model_name": "DescriptionStyleModel",
            "_view_count": null,
            "_view_module": "@jupyter-widgets/base",
            "_view_module_version": "1.2.0",
            "_view_name": "StyleView",
            "description_width": ""
          }
        }
      }
    }
  },
  "nbformat": 4,
  "nbformat_minor": 0
}
